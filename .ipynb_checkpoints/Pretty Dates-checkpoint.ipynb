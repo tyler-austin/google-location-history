{
 "cells": [
  {
   "cell_type": "code",
   "execution_count": null,
   "metadata": {
    "collapsed": true
   },
   "outputs": [],
   "source": [
    "loc = loc_hist_dict['locations'][0]\n",
    "\n",
    "# Make a datetime object\n",
    "loc_datetime = dt.fromtimestamp(int(loc['timestampMs']) / 1000)\n",
    "print ( loc_datetime )\n",
    "\n",
    "# Make a date object\n",
    "loc_date = loc_datetime.strftime('%A, %d %B %Y')\n",
    "print ( loc_date )\n",
    "\n",
    "# Make a time object\n",
    "loc_time = loc_datetime.strftime('%H:%M:%S.%f')\n",
    "print ( loc_time )\n",
    "\n",
    "# Format Coordinates to decimal degrees\n",
    "loc_lat = int(loc['latitudeE7']) / 10000000.0\n",
    "loc_lon = int(loc['longitudeE7']) / 10000000.0\n",
    "print ( '{0}, {1}'.format(loc_lat, loc_lon) )"
   ]
  }
 ],
 "metadata": {
  "kernelspec": {
   "display_name": "Python 3",
   "language": "python",
   "name": "python3"
  },
  "language_info": {
   "codemirror_mode": {
    "name": "ipython",
    "version": 3
   },
   "file_extension": ".py",
   "mimetype": "text/x-python",
   "name": "python",
   "nbconvert_exporter": "python",
   "pygments_lexer": "ipython3",
   "version": "3.5.3"
  }
 },
 "nbformat": 4,
 "nbformat_minor": 2
}
